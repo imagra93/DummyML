{
  "cells": [
    {
      "cell_type": "markdown",
      "metadata": {
        "id": "dzec_--inZ5H"
      },
      "source": [
        "# XGBoost: Examples for Regression and Classification."
      ]
    },
    {
      "cell_type": "markdown",
      "metadata": {
        "id": "Vv_X4gCenZ5J"
      },
      "source": [
        "## Imports & Usefull material\n",
        "\n",
        "We will the use of XGBoost and its integration with Scikit-Learn.\n",
        "\n",
        "Some useful links:\n",
        "\n",
        "\n",
        "*   [XGBoost documentation](https://xgboost.readthedocs.io/en/latest/index.html)\n",
        "*   [Parameters](https://xgboost.readthedocs.io/en/latest/parameter.html)\n",
        "*   [Python package](https://xgboost.readthedocs.io/en/latest/python/python_intro.html)\n",
        "\n",
        "\n",
        "\n",
        "\n",
        "Objective is to demonstrate:\n",
        "\n",
        "\n",
        "*   regression ✓\n",
        "*   binary classification ✓\n",
        "*   multiclass classification ✓\n",
        "*   cross-validation ✓\n",
        "*   hyperparameter searching ✓\n",
        "*   feature importance ✓\n",
        "*   early stopping ✓\n",
        "*   evaluations\n",
        "*   plotting ✓\n",
        "\n"
      ]
    },
    {
      "cell_type": "markdown",
      "metadata": {
        "id": "45DAazuHALsH"
      },
      "source": [
        "Let us start with some imports:"
      ]
    },
    {
      "cell_type": "code",
      "execution_count": 71,
      "metadata": {
        "id": "qwRvo4jcnZ5K"
      },
      "outputs": [],
      "source": [
        "import numpy as np\n",
        "\n",
        "from scipy.stats import uniform, randint\n",
        "\n",
        "from sklearn.datasets import load_breast_cancer, load_diabetes, load_wine\n",
        "from sklearn.metrics import auc, accuracy_score, confusion_matrix, mean_squared_error\n",
        "from sklearn.model_selection import cross_val_score, GridSearchCV, KFold, RandomizedSearchCV, train_test_split\n",
        "from sklearn.preprocessing import StandardScaler\n",
        "\n",
        "import xgboost as xgb"
      ]
    },
    {
      "cell_type": "markdown",
      "metadata": {
        "id": "5mHL7z1RAU2f"
      },
      "source": [
        "And define a couple of functions:"
      ]
    },
    {
      "cell_type": "code",
      "execution_count": 72,
      "metadata": {
        "id": "cHj97J97ARZX"
      },
      "outputs": [],
      "source": [
        "def display_scores(scores):\n",
        "    print(f'Scores: {scores}\\nMean: {np.mean(scores):.3f}\\nStd: {np.std(scores):.3f}')"
      ]
    },
    {
      "cell_type": "code",
      "execution_count": 73,
      "metadata": {
        "id": "DMYGO5k5ASrf"
      },
      "outputs": [],
      "source": [
        "def report_best_scores(results, n_top=3):\n",
        "    for i in range(1, n_top + 1):\n",
        "        candidates = np.flatnonzero(results['rank_test_score'] == i)\n",
        "        for candidate in candidates:\n",
        "            print(f\"Model with rank: {i}\")\n",
        "            print(f\"Mean validation score: {results['mean_test_score'][candidate]:.3f} (std: {results['std_test_score'][candidate]:.3f})\")\n",
        "            print(f\"Parameters: {results['params'][candidate]}\")\n",
        "            print(\"\")"
      ]
    },
    {
      "cell_type": "markdown",
      "metadata": {
        "id": "x6s2lqCOAZdP"
      },
      "source": [
        "# Regression\n",
        "\n",
        "[Diabetes Dataset](https://scikit-learn.org/stable/modules/generated/sklearn.datasets.load_diabetes.html)"
      ]
    },
    {
      "cell_type": "code",
      "execution_count": 74,
      "metadata": {
        "colab": {
          "base_uri": "https://localhost:8080/"
        },
        "id": "0Em77okMAbG3",
        "outputId": "3023b354-7218-4100-b782-311855c953b8"
      },
      "outputs": [
        {
          "name": "stdout",
          "output_type": "stream",
          "text": [
            "(442, 10)\n",
            "(442,)\n",
            "[[ 0.03807591  0.05068012  0.06169621  0.02187239 -0.0442235  -0.03482076\n",
            "  -0.04340085 -0.00259226  0.01990749 -0.01764613]\n",
            " [-0.00188202 -0.04464164 -0.05147406 -0.02632753 -0.00844872 -0.01916334\n",
            "   0.07441156 -0.03949338 -0.06833155 -0.09220405]\n",
            " [ 0.08529891  0.05068012  0.04445121 -0.00567042 -0.04559945 -0.03419447\n",
            "  -0.03235593 -0.00259226  0.00286131 -0.02593034]]\n"
          ]
        }
      ],
      "source": [
        "diabetes = load_diabetes()\n",
        "\n",
        "X = diabetes.data\n",
        "y = diabetes.target\n",
        "\n",
        "print(X.shape)\n",
        "print(y.shape)\n",
        "print(X[:3,:])"
      ]
    },
    {
      "cell_type": "code",
      "execution_count": 75,
      "metadata": {
        "colab": {
          "base_uri": "https://localhost:8080/"
        },
        "id": "lbCg5MARBJUV",
        "outputId": "f7f2690e-036a-41ef-998e-fe60be5274aa"
      },
      "outputs": [
        {
          "name": "stdout",
          "output_type": "stream",
          "text": [
            "mean:  [-1.44429466e-18  2.54321451e-18 -2.25592546e-16 -4.85408596e-17\n",
            " -1.42859580e-17  3.89881064e-17 -6.02836031e-18 -1.78809958e-17\n",
            "  9.24348582e-17  1.35176953e-17]\n",
            "max:  [0.11072668 0.05068012 0.17055523 0.13204362 0.15391371 0.19878799\n",
            " 0.18117906 0.18523444 0.13359728 0.13561183]\n",
            "min:  [-0.10722563 -0.04464164 -0.0902753  -0.1123988  -0.12678067 -0.11561307\n",
            " -0.10230705 -0.0763945  -0.12609712 -0.13776723]\n"
          ]
        }
      ],
      "source": [
        "print(\"mean: \", np.mean(X, axis=0))\n",
        "print(\"max: \", np.max(X, axis=0))\n",
        "print(\"min: \", np.min(X, axis=0))"
      ]
    },
    {
      "cell_type": "code",
      "execution_count": 76,
      "metadata": {
        "colab": {
          "base_uri": "https://localhost:8080/"
        },
        "id": "kk0MsydSAnkP",
        "outputId": "578a9be4-1c90-4d38-d220-1775e3b8ab63"
      },
      "outputs": [
        {
          "name": "stdout",
          "output_type": "stream",
          "text": [
            "0.39512221537109155\n"
          ]
        }
      ],
      "source": [
        "xgb_model = xgb.XGBRegressor(objective=\"reg:squarederror\", random_state=42)\n",
        "\n",
        "xgb_model.fit(X, y)\n",
        "\n",
        "y_pred = xgb_model.predict(X)\n",
        "\n",
        "mse=mean_squared_error(y, y_pred)\n",
        "\n",
        "print(np.sqrt(mse))"
      ]
    },
    {
      "cell_type": "markdown",
      "metadata": {
        "id": "oQt1Ig_7BkdP"
      },
      "source": [
        "And the final model is:"
      ]
    },
    {
      "cell_type": "code",
      "execution_count": 77,
      "metadata": {
        "colab": {
          "base_uri": "https://localhost:8080/",
          "height": 248
        },
        "id": "zB0a5vySBpW0",
        "outputId": "a8bc9922-22eb-495c-8a9a-d2dda08d9f4b"
      },
      "outputs": [
        {
          "data": {
            "text/html": [
              "<style>#sk-container-id-5 {color: black;background-color: white;}#sk-container-id-5 pre{padding: 0;}#sk-container-id-5 div.sk-toggleable {background-color: white;}#sk-container-id-5 label.sk-toggleable__label {cursor: pointer;display: block;width: 100%;margin-bottom: 0;padding: 0.3em;box-sizing: border-box;text-align: center;}#sk-container-id-5 label.sk-toggleable__label-arrow:before {content: \"▸\";float: left;margin-right: 0.25em;color: #696969;}#sk-container-id-5 label.sk-toggleable__label-arrow:hover:before {color: black;}#sk-container-id-5 div.sk-estimator:hover label.sk-toggleable__label-arrow:before {color: black;}#sk-container-id-5 div.sk-toggleable__content {max-height: 0;max-width: 0;overflow: hidden;text-align: left;background-color: #f0f8ff;}#sk-container-id-5 div.sk-toggleable__content pre {margin: 0.2em;color: black;border-radius: 0.25em;background-color: #f0f8ff;}#sk-container-id-5 input.sk-toggleable__control:checked~div.sk-toggleable__content {max-height: 200px;max-width: 100%;overflow: auto;}#sk-container-id-5 input.sk-toggleable__control:checked~label.sk-toggleable__label-arrow:before {content: \"▾\";}#sk-container-id-5 div.sk-estimator input.sk-toggleable__control:checked~label.sk-toggleable__label {background-color: #d4ebff;}#sk-container-id-5 div.sk-label input.sk-toggleable__control:checked~label.sk-toggleable__label {background-color: #d4ebff;}#sk-container-id-5 input.sk-hidden--visually {border: 0;clip: rect(1px 1px 1px 1px);clip: rect(1px, 1px, 1px, 1px);height: 1px;margin: -1px;overflow: hidden;padding: 0;position: absolute;width: 1px;}#sk-container-id-5 div.sk-estimator {font-family: monospace;background-color: #f0f8ff;border: 1px dotted black;border-radius: 0.25em;box-sizing: border-box;margin-bottom: 0.5em;}#sk-container-id-5 div.sk-estimator:hover {background-color: #d4ebff;}#sk-container-id-5 div.sk-parallel-item::after {content: \"\";width: 100%;border-bottom: 1px solid gray;flex-grow: 1;}#sk-container-id-5 div.sk-label:hover label.sk-toggleable__label {background-color: #d4ebff;}#sk-container-id-5 div.sk-serial::before {content: \"\";position: absolute;border-left: 1px solid gray;box-sizing: border-box;top: 0;bottom: 0;left: 50%;z-index: 0;}#sk-container-id-5 div.sk-serial {display: flex;flex-direction: column;align-items: center;background-color: white;padding-right: 0.2em;padding-left: 0.2em;position: relative;}#sk-container-id-5 div.sk-item {position: relative;z-index: 1;}#sk-container-id-5 div.sk-parallel {display: flex;align-items: stretch;justify-content: center;background-color: white;position: relative;}#sk-container-id-5 div.sk-item::before, #sk-container-id-5 div.sk-parallel-item::before {content: \"\";position: absolute;border-left: 1px solid gray;box-sizing: border-box;top: 0;bottom: 0;left: 50%;z-index: -1;}#sk-container-id-5 div.sk-parallel-item {display: flex;flex-direction: column;z-index: 1;position: relative;background-color: white;}#sk-container-id-5 div.sk-parallel-item:first-child::after {align-self: flex-end;width: 50%;}#sk-container-id-5 div.sk-parallel-item:last-child::after {align-self: flex-start;width: 50%;}#sk-container-id-5 div.sk-parallel-item:only-child::after {width: 0;}#sk-container-id-5 div.sk-dashed-wrapped {border: 1px dashed gray;margin: 0 0.4em 0.5em 0.4em;box-sizing: border-box;padding-bottom: 0.4em;background-color: white;}#sk-container-id-5 div.sk-label label {font-family: monospace;font-weight: bold;display: inline-block;line-height: 1.2em;}#sk-container-id-5 div.sk-label-container {text-align: center;}#sk-container-id-5 div.sk-container {/* jupyter's `normalize.less` sets `[hidden] { display: none; }` but bootstrap.min.css set `[hidden] { display: none !important; }` so we also need the `!important` here to be able to override the default hidden behavior on the sphinx rendered scikit-learn.org. See: https://github.com/scikit-learn/scikit-learn/issues/21755 */display: inline-block !important;position: relative;}#sk-container-id-5 div.sk-text-repr-fallback {display: none;}</style><div id=\"sk-container-id-5\" class=\"sk-top-container\"><div class=\"sk-text-repr-fallback\"><pre>XGBRegressor(base_score=None, booster=None, callbacks=None,\n",
              "             colsample_bylevel=None, colsample_bynode=None,\n",
              "             colsample_bytree=None, device=None, early_stopping_rounds=None,\n",
              "             enable_categorical=False, eval_metric=None, feature_types=None,\n",
              "             gamma=None, grow_policy=None, importance_type=None,\n",
              "             interaction_constraints=None, learning_rate=None, max_bin=None,\n",
              "             max_cat_threshold=None, max_cat_to_onehot=None,\n",
              "             max_delta_step=None, max_depth=None, max_leaves=None,\n",
              "             min_child_weight=None, missing=nan, monotone_constraints=None,\n",
              "             multi_strategy=None, n_estimators=None, n_jobs=None,\n",
              "             num_parallel_tree=None, random_state=42, ...)</pre><b>In a Jupyter environment, please rerun this cell to show the HTML representation or trust the notebook. <br />On GitHub, the HTML representation is unable to render, please try loading this page with nbviewer.org.</b></div><div class=\"sk-container\" hidden><div class=\"sk-item\"><div class=\"sk-estimator sk-toggleable\"><input class=\"sk-toggleable__control sk-hidden--visually\" id=\"sk-estimator-id-5\" type=\"checkbox\" checked><label for=\"sk-estimator-id-5\" class=\"sk-toggleable__label sk-toggleable__label-arrow\">XGBRegressor</label><div class=\"sk-toggleable__content\"><pre>XGBRegressor(base_score=None, booster=None, callbacks=None,\n",
              "             colsample_bylevel=None, colsample_bynode=None,\n",
              "             colsample_bytree=None, device=None, early_stopping_rounds=None,\n",
              "             enable_categorical=False, eval_metric=None, feature_types=None,\n",
              "             gamma=None, grow_policy=None, importance_type=None,\n",
              "             interaction_constraints=None, learning_rate=None, max_bin=None,\n",
              "             max_cat_threshold=None, max_cat_to_onehot=None,\n",
              "             max_delta_step=None, max_depth=None, max_leaves=None,\n",
              "             min_child_weight=None, missing=nan, monotone_constraints=None,\n",
              "             multi_strategy=None, n_estimators=None, n_jobs=None,\n",
              "             num_parallel_tree=None, random_state=42, ...)</pre></div></div></div></div></div>"
            ],
            "text/plain": [
              "XGBRegressor(base_score=None, booster=None, callbacks=None,\n",
              "             colsample_bylevel=None, colsample_bynode=None,\n",
              "             colsample_bytree=None, device=None, early_stopping_rounds=None,\n",
              "             enable_categorical=False, eval_metric=None, feature_types=None,\n",
              "             gamma=None, grow_policy=None, importance_type=None,\n",
              "             interaction_constraints=None, learning_rate=None, max_bin=None,\n",
              "             max_cat_threshold=None, max_cat_to_onehot=None,\n",
              "             max_delta_step=None, max_depth=None, max_leaves=None,\n",
              "             min_child_weight=None, missing=nan, monotone_constraints=None,\n",
              "             multi_strategy=None, n_estimators=None, n_jobs=None,\n",
              "             num_parallel_tree=None, random_state=42, ...)"
            ]
          },
          "execution_count": 77,
          "metadata": {},
          "output_type": "execute_result"
        }
      ],
      "source": [
        "xgb_model"
      ]
    },
    {
      "cell_type": "markdown",
      "metadata": {
        "id": "irfyjHwvBxJ_"
      },
      "source": [
        "# Binary classification\n",
        "\n",
        "[Breast Cancer Dataset](https://scikit-learn.org/stable/modules/generated/sklearn.datasets.load_breast_cancer.html)"
      ]
    },
    {
      "cell_type": "code",
      "execution_count": 78,
      "metadata": {
        "id": "xb7h0HuiB4nH"
      },
      "outputs": [],
      "source": [
        "cancer = load_breast_cancer()\n",
        "\n",
        "X = cancer.data\n",
        "y = cancer.target"
      ]
    },
    {
      "cell_type": "code",
      "execution_count": 79,
      "metadata": {
        "colab": {
          "base_uri": "https://localhost:8080/"
        },
        "id": "PZA89Lq3CEAH",
        "outputId": "df3c2c61-cb17-48a7-afc9-04a72207faa0"
      },
      "outputs": [
        {
          "name": "stdout",
          "output_type": "stream",
          "text": [
            "(569, 30)\n",
            "(569,)\n",
            "[[1.799e+01 1.038e+01 1.228e+02 1.001e+03 1.184e-01 2.776e-01 3.001e-01\n",
            "  1.471e-01 2.419e-01 7.871e-02 1.095e+00 9.053e-01 8.589e+00 1.534e+02\n",
            "  6.399e-03 4.904e-02 5.373e-02 1.587e-02 3.003e-02 6.193e-03 2.538e+01\n",
            "  1.733e+01 1.846e+02 2.019e+03 1.622e-01 6.656e-01 7.119e-01 2.654e-01\n",
            "  4.601e-01 1.189e-01]\n",
            " [2.057e+01 1.777e+01 1.329e+02 1.326e+03 8.474e-02 7.864e-02 8.690e-02\n",
            "  7.017e-02 1.812e-01 5.667e-02 5.435e-01 7.339e-01 3.398e+00 7.408e+01\n",
            "  5.225e-03 1.308e-02 1.860e-02 1.340e-02 1.389e-02 3.532e-03 2.499e+01\n",
            "  2.341e+01 1.588e+02 1.956e+03 1.238e-01 1.866e-01 2.416e-01 1.860e-01\n",
            "  2.750e-01 8.902e-02]\n",
            " [1.969e+01 2.125e+01 1.300e+02 1.203e+03 1.096e-01 1.599e-01 1.974e-01\n",
            "  1.279e-01 2.069e-01 5.999e-02 7.456e-01 7.869e-01 4.585e+00 9.403e+01\n",
            "  6.150e-03 4.006e-02 3.832e-02 2.058e-02 2.250e-02 4.571e-03 2.357e+01\n",
            "  2.553e+01 1.525e+02 1.709e+03 1.444e-01 4.245e-01 4.504e-01 2.430e-01\n",
            "  3.613e-01 8.758e-02]]\n"
          ]
        }
      ],
      "source": [
        "print(X.shape)\n",
        "print(y.shape)\n",
        "print(X[:3,:])"
      ]
    },
    {
      "cell_type": "code",
      "execution_count": 80,
      "metadata": {
        "colab": {
          "base_uri": "https://localhost:8080/"
        },
        "id": "TalklXw6CJOW",
        "outputId": "54cb26ea-c641-4c20-b4fe-185ffb7be330"
      },
      "outputs": [
        {
          "name": "stdout",
          "output_type": "stream",
          "text": [
            "mean:  [1.41272917e+01 1.92896485e+01 9.19690334e+01 6.54889104e+02\n",
            " 9.63602812e-02 1.04340984e-01 8.87993158e-02 4.89191459e-02\n",
            " 1.81161863e-01 6.27976098e-02 4.05172056e-01 1.21685343e+00\n",
            " 2.86605923e+00 4.03370791e+01 7.04097891e-03 2.54781388e-02\n",
            " 3.18937163e-02 1.17961371e-02 2.05422988e-02 3.79490387e-03\n",
            " 1.62691898e+01 2.56772232e+01 1.07261213e+02 8.80583128e+02\n",
            " 1.32368594e-01 2.54265044e-01 2.72188483e-01 1.14606223e-01\n",
            " 2.90075571e-01 8.39458172e-02]\n",
            "max:  [2.811e+01 3.928e+01 1.885e+02 2.501e+03 1.634e-01 3.454e-01 4.268e-01\n",
            " 2.012e-01 3.040e-01 9.744e-02 2.873e+00 4.885e+00 2.198e+01 5.422e+02\n",
            " 3.113e-02 1.354e-01 3.960e-01 5.279e-02 7.895e-02 2.984e-02 3.604e+01\n",
            " 4.954e+01 2.512e+02 4.254e+03 2.226e-01 1.058e+00 1.252e+00 2.910e-01\n",
            " 6.638e-01 2.075e-01]\n",
            "min:  [6.981e+00 9.710e+00 4.379e+01 1.435e+02 5.263e-02 1.938e-02 0.000e+00\n",
            " 0.000e+00 1.060e-01 4.996e-02 1.115e-01 3.602e-01 7.570e-01 6.802e+00\n",
            " 1.713e-03 2.252e-03 0.000e+00 0.000e+00 7.882e-03 8.948e-04 7.930e+00\n",
            " 1.202e+01 5.041e+01 1.852e+02 7.117e-02 2.729e-02 0.000e+00 0.000e+00\n",
            " 1.565e-01 5.504e-02]\n"
          ]
        }
      ],
      "source": [
        "print(\"mean: \", np.mean(X, axis=0))\n",
        "print(\"max: \", np.max(X, axis=0))\n",
        "print(\"min: \", np.min(X, axis=0))"
      ]
    },
    {
      "cell_type": "code",
      "execution_count": 81,
      "metadata": {
        "id": "r19C2jCGDBz1"
      },
      "outputs": [],
      "source": [
        "scaler = StandardScaler()\n",
        "X = scaler.fit_transform(X) # Or first scaler=fit(X) -> then X = scaler.transform(X)"
      ]
    },
    {
      "cell_type": "code",
      "execution_count": 82,
      "metadata": {
        "colab": {
          "base_uri": "https://localhost:8080/"
        },
        "id": "woS-_n98DKfW",
        "outputId": "512f84f9-c3da-4469-e54d-999036d6a0f5"
      },
      "outputs": [
        {
          "name": "stdout",
          "output_type": "stream",
          "text": [
            "mean:  [-3.16286735e-15 -6.53060890e-15 -7.07889127e-16 -8.79983452e-16\n",
            "  6.13217737e-15 -1.12036918e-15 -4.42138027e-16  9.73249991e-16\n",
            " -1.97167024e-15 -1.45363120e-15 -9.07641468e-16 -8.85349205e-16\n",
            "  1.77367396e-15 -8.29155139e-16 -7.54180940e-16 -3.92187747e-16\n",
            "  7.91789988e-16 -2.73946068e-16 -3.10823423e-16 -3.36676596e-16\n",
            " -2.33322442e-15  1.76367415e-15 -1.19802625e-15  5.04966114e-16\n",
            " -5.21317026e-15 -2.17478837e-15  6.85645643e-16 -1.41265636e-16\n",
            " -2.28956670e-15  2.57517109e-15]\n",
            "max:  [ 3.97128765  4.65188898  3.97612984  5.25052883  4.77091122  4.56842498\n",
            "  4.24358882  3.92792966  4.48475086  4.91091929  8.90690934  6.65527935\n",
            "  9.46198577 11.04184226  8.02999927  6.14348219 12.0726804   6.64960079\n",
            "  7.07191706  9.85159257  4.09418939  3.88590505  4.28733746  5.9301724\n",
            "  3.95537411  5.11287727  4.7006688   2.68587702  6.04604135  6.84685604]\n",
            "min:  [-2.0296483  -2.22924851 -1.98450403 -1.45444309 -3.11208479 -1.61013634\n",
            " -1.11487284 -1.26181958 -2.74411707 -1.81986478 -1.05992413 -1.55426392\n",
            " -1.04404888 -0.73782907 -1.77606498 -1.2980982  -1.05750068 -1.91344745\n",
            " -1.53289003 -1.09696818 -1.72690052 -2.22399401 -1.69336103 -1.22242284\n",
            " -2.68269492 -1.4438784  -1.30583065 -1.74506282 -2.16095969 -1.60183949]\n"
          ]
        }
      ],
      "source": [
        "print(\"mean: \", np.mean(X, axis=0))\n",
        "print(\"max: \", np.max(X, axis=0))\n",
        "print(\"min: \", np.min(X, axis=0))"
      ]
    },
    {
      "cell_type": "code",
      "execution_count": 83,
      "metadata": {
        "colab": {
          "base_uri": "https://localhost:8080/"
        },
        "id": "xmkIFu6UCP6u",
        "outputId": "2de0808e-d68b-4622-c221-957d190c1fe1"
      },
      "outputs": [
        {
          "name": "stdout",
          "output_type": "stream",
          "text": [
            "[[212   0]\n",
            " [  0 357]]\n"
          ]
        }
      ],
      "source": [
        "xgb_model = xgb.XGBClassifier(objective=\"binary:logistic\", random_state=42)\n",
        "xgb_model.fit(X, y)\n",
        "\n",
        "y_pred = xgb_model.predict(X)\n",
        "\n",
        "print(confusion_matrix(y, y_pred))"
      ]
    },
    {
      "cell_type": "markdown",
      "metadata": {
        "id": "ghX9RwIICWyW"
      },
      "source": [
        "# Multiclass classification & Standard Scaler\n",
        "\n",
        "In here you can find information about the [Wine Dataset](https://scikit-learn.org/stable/modules/generated/sklearn.datasets.load_wine.html) and the meaning of its features."
      ]
    },
    {
      "cell_type": "code",
      "execution_count": 84,
      "metadata": {
        "id": "PDnopXxJDY63"
      },
      "outputs": [],
      "source": [
        "wine = load_wine()\n",
        "\n",
        "X = wine.data\n",
        "y = wine.target"
      ]
    },
    {
      "cell_type": "code",
      "execution_count": 85,
      "metadata": {
        "colab": {
          "base_uri": "https://localhost:8080/"
        },
        "id": "B_xLXz3SDdRn",
        "outputId": "a20745da-dcd6-4c79-b749-3bcc9ec058c5"
      },
      "outputs": [
        {
          "name": "stdout",
          "output_type": "stream",
          "text": [
            "[0 1 2]\n"
          ]
        }
      ],
      "source": [
        "print(np.unique(y))"
      ]
    },
    {
      "cell_type": "code",
      "execution_count": 86,
      "metadata": {
        "colab": {
          "base_uri": "https://localhost:8080/"
        },
        "id": "_GRrCXLXBdpc",
        "outputId": "6a57b905-ac21-4681-a27a-54acfa721c1b"
      },
      "outputs": [
        {
          "name": "stdout",
          "output_type": "stream",
          "text": [
            "(178, 13)\n"
          ]
        }
      ],
      "source": [
        "print(X.shape)"
      ]
    },
    {
      "cell_type": "markdown",
      "metadata": {
        "id": "iA98AhleBiOD"
      },
      "source": [
        "We have 569 samples of 30 features each (all numerical)."
      ]
    },
    {
      "cell_type": "code",
      "execution_count": 87,
      "metadata": {
        "id": "Z-yo7xfjDmBP"
      },
      "outputs": [],
      "source": [
        "scaler2 = StandardScaler()\n",
        "X = scaler2.fit_transform(X) # Or first scaler=fit(X) -> then X = scaler.transform(X)"
      ]
    },
    {
      "cell_type": "code",
      "execution_count": 88,
      "metadata": {
        "colab": {
          "base_uri": "https://localhost:8080/"
        },
        "id": "IHHSrLc3DoU_",
        "outputId": "8aa5a20d-bc86-4328-b28d-2056f5ad9b9b"
      },
      "outputs": [
        {
          "name": "stdout",
          "output_type": "stream",
          "text": [
            "[[59  0  0]\n",
            " [ 0 71  0]\n",
            " [ 0  0 48]]\n"
          ]
        }
      ],
      "source": [
        "xgb_model = xgb.XGBClassifier(objective=\"multi:softprob\", random_state=42)\n",
        "xgb_model.fit(X, y)\n",
        "\n",
        "y_pred = xgb_model.predict(X)\n",
        "\n",
        "print(confusion_matrix(y, y_pred))"
      ]
    },
    {
      "cell_type": "markdown",
      "metadata": {
        "id": "RRuiw4uGDwcV"
      },
      "source": [
        "# Cross-validation"
      ]
    },
    {
      "cell_type": "code",
      "execution_count": 89,
      "metadata": {
        "colab": {
          "base_uri": "https://localhost:8080/"
        },
        "id": "ogkYdWapDy6P",
        "outputId": "11bc0d37-54cd-43c5-916c-c31f59c301e8"
      },
      "outputs": [
        {
          "name": "stdout",
          "output_type": "stream",
          "text": [
            "Scores: [59.03965501 65.59331953 51.57350598 72.32064012 73.28533005 64.45705469\n",
            " 60.15234542 71.73034452 58.51737867 66.81255974]\n",
            "Mean: 64.348\n",
            "Std: 6.697\n"
          ]
        }
      ],
      "source": [
        "diabetes = load_diabetes()\n",
        "\n",
        "X = diabetes.data\n",
        "y = diabetes.target\n",
        "\n",
        "kfold = KFold(n_splits=10, shuffle=True, random_state=42)\n",
        "\n",
        "scores = []\n",
        "\n",
        "for train_index, test_index in kfold.split(X):\n",
        "\n",
        "    X_train, X_test = X[train_index], X[test_index]\n",
        "    y_train, y_test = y[train_index], y[test_index]\n",
        "\n",
        "    xgb_model = xgb.XGBRegressor(objective=\"reg:squarederror\")\n",
        "    xgb_model.fit(X_train, y_train)\n",
        "\n",
        "    y_pred = xgb_model.predict(X_test)\n",
        "\n",
        "    scores.append(mean_squared_error(y_test, y_pred))\n",
        "\n",
        "display_scores(np.sqrt(scores))"
      ]
    },
    {
      "cell_type": "markdown",
      "metadata": {
        "id": "e3biZAN_EIiX"
      },
      "source": [
        "Or equivalently:"
      ]
    },
    {
      "cell_type": "code",
      "execution_count": 90,
      "metadata": {
        "colab": {
          "base_uri": "https://localhost:8080/"
        },
        "id": "zQmpEqNyEHIv",
        "outputId": "aed23762-4cc1-45cf-9c38-25d27e549965"
      },
      "outputs": [
        {
          "name": "stdout",
          "output_type": "stream",
          "text": [
            "Scores: [59.74646987 57.44576747 65.09830991 63.39192845 67.59274825 68.67236268\n",
            " 63.59599688 61.69022646 75.75210193 63.65663249]\n",
            "Mean: 64.664\n",
            "Std: 4.865\n"
          ]
        }
      ],
      "source": [
        "xgb_model = xgb.XGBRegressor(objective=\"reg:squarederror\", random_state=42)\n",
        "\n",
        "scores = cross_val_score(xgb_model, X, y, scoring=\"neg_mean_squared_error\", cv=10)\n",
        "\n",
        "display_scores(np.sqrt(-scores))"
      ]
    },
    {
      "cell_type": "markdown",
      "metadata": {
        "id": "VB3Vr13FESrn"
      },
      "source": [
        "# Hyperparameter search"
      ]
    },
    {
      "cell_type": "code",
      "execution_count": 91,
      "metadata": {
        "colab": {
          "base_uri": "https://localhost:8080/"
        },
        "id": "KLFj4riXEVk2",
        "outputId": "184825c4-b173-4e4a-f0fc-a6de86171669"
      },
      "outputs": [
        {
          "name": "stdout",
          "output_type": "stream",
          "text": [
            "Fitting 3 folds for each of 200 candidates, totalling 600 fits\n",
            "Model with rank: 1\n",
            "Mean validation score: 0.469 (std: 0.014)\n",
            "Parameters: {'colsample_bytree': 0.7902634929450308, 'gamma': 0.1424202471887338, 'learning_rate': 0.041066084206359835, 'max_depth': 2, 'n_estimators': 101, 'subsample': 0.8010716092915446}\n",
            "\n"
          ]
        }
      ],
      "source": [
        "diabetes = load_diabetes()\n",
        "\n",
        "X = diabetes.data\n",
        "y = diabetes.target\n",
        "\n",
        "xgb_model = xgb.XGBRegressor(objective=\"reg:squarederror\")\n",
        "\n",
        "params = {\n",
        "    \"colsample_bytree\": uniform(0.7, 0.3),\n",
        "    \"gamma\": uniform(0, 0.5),\n",
        "    \"learning_rate\": uniform(0.03, 0.3),\n",
        "    \"max_depth\": randint(2, 6),\n",
        "    \"n_estimators\": randint(100, 150),\n",
        "    \"subsample\": uniform(0.6, 0.4)\n",
        "}\n",
        "\n",
        "search = RandomizedSearchCV(xgb_model, param_distributions=params, random_state=42, n_iter=200, cv=3, verbose=1, n_jobs=1, return_train_score=True)\n",
        "\n",
        "search.fit(X, y)\n",
        "\n",
        "report_best_scores(search.cv_results_, 1)"
      ]
    },
    {
      "cell_type": "markdown",
      "metadata": {
        "id": "zB7uWAdLE0CH"
      },
      "source": [
        "# Early stopping:"
      ]
    },
    {
      "cell_type": "code",
      "execution_count": 92,
      "metadata": {
        "colab": {
          "base_uri": "https://localhost:8080/"
        },
        "id": "154AiIwpEzX_",
        "outputId": "ce1cdcb4-67e1-4d35-e7a0-415323d7168c"
      },
      "outputs": [
        {
          "name": "stdout",
          "output_type": "stream",
          "text": [
            "[0]\tvalidation_0-auc:0.96286\n",
            "[1]\tvalidation_0-auc:0.97742\n",
            "[2]\tvalidation_0-auc:0.97514\n",
            "[3]\tvalidation_0-auc:0.98096\n",
            "[4]\tvalidation_0-auc:0.98637\n",
            "[5]\tvalidation_0-auc:0.99043\n",
            "[6]\tvalidation_0-auc:0.98918\n",
            "[7]\tvalidation_0-auc:0.98980\n",
            "[8]\tvalidation_0-auc:0.98939\n"
          ]
        },
        {
          "data": {
            "text/plain": [
              "0.965034965034965"
            ]
          },
          "execution_count": 92,
          "metadata": {},
          "output_type": "execute_result"
        }
      ],
      "source": [
        "cancer = load_breast_cancer()\n",
        "\n",
        "X = cancer.data\n",
        "y = cancer.target\n",
        "\n",
        "xgb_model = xgb.XGBClassifier(objective=\"binary:logistic\", random_state=42, eval_metric='auc', early_stopping_rounds=3)\n",
        "\n",
        "X_train, X_test, y_train, y_test = train_test_split(X, y, random_state=42)\n",
        "\n",
        "xgb_model.fit(X_train, y_train, eval_set=[(X_test, y_test)])\n",
        "\n",
        "y_pred = xgb_model.predict(X_test)\n",
        "\n",
        "accuracy_score(y_test, y_pred)"
      ]
    },
    {
      "cell_type": "code",
      "execution_count": 93,
      "metadata": {
        "colab": {
          "base_uri": "https://localhost:8080/"
        },
        "id": "fna92zQ0FTru",
        "outputId": "94a089c8-6716-457b-f362-347969761aac"
      },
      "outputs": [
        {
          "name": "stdout",
          "output_type": "stream",
          "text": [
            "best score: 0.9904286308780691, best iteration: 5\n"
          ]
        }
      ],
      "source": [
        "print(f\"best score: {xgb_model.best_score}, best iteration: {xgb_model.best_iteration}\")"
      ]
    },
    {
      "cell_type": "markdown",
      "metadata": {
        "id": "NLBPPlLmHIOO"
      },
      "source": [
        "# Evaluation"
      ]
    },
    {
      "cell_type": "code",
      "execution_count": 94,
      "metadata": {
        "colab": {
          "base_uri": "https://localhost:8080/"
        },
        "id": "FSlyWMuTHKBO",
        "outputId": "1df4ccaf-865f-422d-d447-880fba4ab3b5"
      },
      "outputs": [
        {
          "name": "stdout",
          "output_type": "stream",
          "text": [
            "[0]\tvalidation_0-auc:0.96286\tvalidation_0-error:0.06993\n",
            "[1]\tvalidation_0-auc:0.97742\tvalidation_0-error:0.03497\n",
            "[2]\tvalidation_0-auc:0.97514\tvalidation_0-error:0.04196\n",
            "[3]\tvalidation_0-auc:0.98096\tvalidation_0-error:0.03497\n",
            "[4]\tvalidation_0-auc:0.98637\tvalidation_0-error:0.03497\n",
            "[5]\tvalidation_0-auc:0.99043\tvalidation_0-error:0.03497\n",
            "[6]\tvalidation_0-auc:0.98918\tvalidation_0-error:0.03497\n"
          ]
        },
        {
          "name": "stdout",
          "output_type": "stream",
          "text": [
            "[7]\tvalidation_0-auc:0.98980\tvalidation_0-error:0.03497\n",
            "[8]\tvalidation_0-auc:0.98939\tvalidation_0-error:0.03497\n",
            "[9]\tvalidation_0-auc:0.99251\tvalidation_0-error:0.03497\n",
            "[10]\tvalidation_0-auc:0.99209\tvalidation_0-error:0.03497\n",
            "[11]\tvalidation_0-auc:0.99168\tvalidation_0-error:0.03497\n",
            "[12]\tvalidation_0-auc:0.99313\tvalidation_0-error:0.03497\n",
            "[13]\tvalidation_0-auc:0.99313\tvalidation_0-error:0.03497\n",
            "[14]\tvalidation_0-auc:0.99355\tvalidation_0-error:0.03497\n",
            "[15]\tvalidation_0-auc:0.99313\tvalidation_0-error:0.03497\n",
            "[16]\tvalidation_0-auc:0.99272\tvalidation_0-error:0.03497\n",
            "[17]\tvalidation_0-auc:0.99272\tvalidation_0-error:0.03497\n",
            "[18]\tvalidation_0-auc:0.99293\tvalidation_0-error:0.03497\n",
            "[19]\tvalidation_0-auc:0.99293\tvalidation_0-error:0.03497\n"
          ]
        },
        {
          "data": {
            "text/html": [
              "<style>#sk-container-id-6 {color: black;background-color: white;}#sk-container-id-6 pre{padding: 0;}#sk-container-id-6 div.sk-toggleable {background-color: white;}#sk-container-id-6 label.sk-toggleable__label {cursor: pointer;display: block;width: 100%;margin-bottom: 0;padding: 0.3em;box-sizing: border-box;text-align: center;}#sk-container-id-6 label.sk-toggleable__label-arrow:before {content: \"▸\";float: left;margin-right: 0.25em;color: #696969;}#sk-container-id-6 label.sk-toggleable__label-arrow:hover:before {color: black;}#sk-container-id-6 div.sk-estimator:hover label.sk-toggleable__label-arrow:before {color: black;}#sk-container-id-6 div.sk-toggleable__content {max-height: 0;max-width: 0;overflow: hidden;text-align: left;background-color: #f0f8ff;}#sk-container-id-6 div.sk-toggleable__content pre {margin: 0.2em;color: black;border-radius: 0.25em;background-color: #f0f8ff;}#sk-container-id-6 input.sk-toggleable__control:checked~div.sk-toggleable__content {max-height: 200px;max-width: 100%;overflow: auto;}#sk-container-id-6 input.sk-toggleable__control:checked~label.sk-toggleable__label-arrow:before {content: \"▾\";}#sk-container-id-6 div.sk-estimator input.sk-toggleable__control:checked~label.sk-toggleable__label {background-color: #d4ebff;}#sk-container-id-6 div.sk-label input.sk-toggleable__control:checked~label.sk-toggleable__label {background-color: #d4ebff;}#sk-container-id-6 input.sk-hidden--visually {border: 0;clip: rect(1px 1px 1px 1px);clip: rect(1px, 1px, 1px, 1px);height: 1px;margin: -1px;overflow: hidden;padding: 0;position: absolute;width: 1px;}#sk-container-id-6 div.sk-estimator {font-family: monospace;background-color: #f0f8ff;border: 1px dotted black;border-radius: 0.25em;box-sizing: border-box;margin-bottom: 0.5em;}#sk-container-id-6 div.sk-estimator:hover {background-color: #d4ebff;}#sk-container-id-6 div.sk-parallel-item::after {content: \"\";width: 100%;border-bottom: 1px solid gray;flex-grow: 1;}#sk-container-id-6 div.sk-label:hover label.sk-toggleable__label {background-color: #d4ebff;}#sk-container-id-6 div.sk-serial::before {content: \"\";position: absolute;border-left: 1px solid gray;box-sizing: border-box;top: 0;bottom: 0;left: 50%;z-index: 0;}#sk-container-id-6 div.sk-serial {display: flex;flex-direction: column;align-items: center;background-color: white;padding-right: 0.2em;padding-left: 0.2em;position: relative;}#sk-container-id-6 div.sk-item {position: relative;z-index: 1;}#sk-container-id-6 div.sk-parallel {display: flex;align-items: stretch;justify-content: center;background-color: white;position: relative;}#sk-container-id-6 div.sk-item::before, #sk-container-id-6 div.sk-parallel-item::before {content: \"\";position: absolute;border-left: 1px solid gray;box-sizing: border-box;top: 0;bottom: 0;left: 50%;z-index: -1;}#sk-container-id-6 div.sk-parallel-item {display: flex;flex-direction: column;z-index: 1;position: relative;background-color: white;}#sk-container-id-6 div.sk-parallel-item:first-child::after {align-self: flex-end;width: 50%;}#sk-container-id-6 div.sk-parallel-item:last-child::after {align-self: flex-start;width: 50%;}#sk-container-id-6 div.sk-parallel-item:only-child::after {width: 0;}#sk-container-id-6 div.sk-dashed-wrapped {border: 1px dashed gray;margin: 0 0.4em 0.5em 0.4em;box-sizing: border-box;padding-bottom: 0.4em;background-color: white;}#sk-container-id-6 div.sk-label label {font-family: monospace;font-weight: bold;display: inline-block;line-height: 1.2em;}#sk-container-id-6 div.sk-label-container {text-align: center;}#sk-container-id-6 div.sk-container {/* jupyter's `normalize.less` sets `[hidden] { display: none; }` but bootstrap.min.css set `[hidden] { display: none !important; }` so we also need the `!important` here to be able to override the default hidden behavior on the sphinx rendered scikit-learn.org. See: https://github.com/scikit-learn/scikit-learn/issues/21755 */display: inline-block !important;position: relative;}#sk-container-id-6 div.sk-text-repr-fallback {display: none;}</style><div id=\"sk-container-id-6\" class=\"sk-top-container\"><div class=\"sk-text-repr-fallback\"><pre>XGBClassifier(base_score=None, booster=None, callbacks=None,\n",
              "              colsample_bylevel=None, colsample_bynode=None,\n",
              "              colsample_bytree=None, device=None, early_stopping_rounds=None,\n",
              "              enable_categorical=False, eval_metric=[&#x27;auc&#x27;, &#x27;error&#x27;],\n",
              "              feature_types=None, gamma=None, grow_policy=None,\n",
              "              importance_type=None, interaction_constraints=None,\n",
              "              learning_rate=None, max_bin=None, max_cat_threshold=None,\n",
              "              max_cat_to_onehot=None, max_delta_step=None, max_depth=None,\n",
              "              max_leaves=None, min_child_weight=None, missing=nan,\n",
              "              monotone_constraints=None, multi_strategy=None, n_estimators=20,\n",
              "              n_jobs=None, num_parallel_tree=None, random_state=42, ...)</pre><b>In a Jupyter environment, please rerun this cell to show the HTML representation or trust the notebook. <br />On GitHub, the HTML representation is unable to render, please try loading this page with nbviewer.org.</b></div><div class=\"sk-container\" hidden><div class=\"sk-item\"><div class=\"sk-estimator sk-toggleable\"><input class=\"sk-toggleable__control sk-hidden--visually\" id=\"sk-estimator-id-6\" type=\"checkbox\" checked><label for=\"sk-estimator-id-6\" class=\"sk-toggleable__label sk-toggleable__label-arrow\">XGBClassifier</label><div class=\"sk-toggleable__content\"><pre>XGBClassifier(base_score=None, booster=None, callbacks=None,\n",
              "              colsample_bylevel=None, colsample_bynode=None,\n",
              "              colsample_bytree=None, device=None, early_stopping_rounds=None,\n",
              "              enable_categorical=False, eval_metric=[&#x27;auc&#x27;, &#x27;error&#x27;],\n",
              "              feature_types=None, gamma=None, grow_policy=None,\n",
              "              importance_type=None, interaction_constraints=None,\n",
              "              learning_rate=None, max_bin=None, max_cat_threshold=None,\n",
              "              max_cat_to_onehot=None, max_delta_step=None, max_depth=None,\n",
              "              max_leaves=None, min_child_weight=None, missing=nan,\n",
              "              monotone_constraints=None, multi_strategy=None, n_estimators=20,\n",
              "              n_jobs=None, num_parallel_tree=None, random_state=42, ...)</pre></div></div></div></div></div>"
            ],
            "text/plain": [
              "XGBClassifier(base_score=None, booster=None, callbacks=None,\n",
              "              colsample_bylevel=None, colsample_bynode=None,\n",
              "              colsample_bytree=None, device=None, early_stopping_rounds=None,\n",
              "              enable_categorical=False, eval_metric=['auc', 'error'],\n",
              "              feature_types=None, gamma=None, grow_policy=None,\n",
              "              importance_type=None, interaction_constraints=None,\n",
              "              learning_rate=None, max_bin=None, max_cat_threshold=None,\n",
              "              max_cat_to_onehot=None, max_delta_step=None, max_depth=None,\n",
              "              max_leaves=None, min_child_weight=None, missing=nan,\n",
              "              monotone_constraints=None, multi_strategy=None, n_estimators=20,\n",
              "              n_jobs=None, num_parallel_tree=None, random_state=42, ...)"
            ]
          },
          "execution_count": 94,
          "metadata": {},
          "output_type": "execute_result"
        }
      ],
      "source": [
        "cancer = load_breast_cancer()\n",
        "\n",
        "X = cancer.data\n",
        "y = cancer.target\n",
        "\n",
        "xgb_model = xgb.XGBClassifier(objective=\"binary:logistic\", n_estimators=20, random_state=42, eval_metric=[\"auc\", \"error\"])\n",
        "\n",
        "X_train, X_test, y_train, y_test = train_test_split(X, y, random_state=42)\n",
        "\n",
        "xgb_model.fit(X_train, y_train, eval_set=[(X_test, y_test)])"
      ]
    },
    {
      "cell_type": "code",
      "execution_count": 95,
      "metadata": {},
      "outputs": [
        {
          "name": "stdout",
          "output_type": "stream",
          "text": [
            "error :  0.034965034965035\n"
          ]
        }
      ],
      "source": [
        "y_pred = xgb_model.predict(X_test)\n",
        "print('error : ', 1-accuracy_score(y_test, y_pred))"
      ]
    },
    {
      "cell_type": "markdown",
      "metadata": {
        "id": "6TXMnDEiHskW"
      },
      "source": [
        "# Bonus: Plotting and feature importance"
      ]
    },
    {
      "cell_type": "code",
      "execution_count": 101,
      "metadata": {},
      "outputs": [
        {
          "name": "stderr",
          "output_type": "stream",
          "text": [
            "/Users/imanolgranada/opt/anaconda3/lib/python3.9/site-packages/xgboost/sklearn.py:885: UserWarning: `early_stopping_rounds` in `fit` method is deprecated for better compatibility with scikit-learn, use `early_stopping_rounds` in constructor or`set_params` instead.\n",
            "  warnings.warn(\n"
          ]
        },
        {
          "data": {
            "image/png": "[encoded data removed]",
            "text/plain": [
              "<Figure size 640x480 with 1 Axes>"
            ]
          },
          "metadata": {},
          "output_type": "display_data"
        }
      ],
      "source": [
        "cancer = load_breast_cancer()\n",
        "X = cancer.data\n",
        "y = cancer.target\n",
        "feature_names = cancer.feature_names\n",
        "\n",
        "xgb_model = xgb.XGBClassifier(objective=\"binary:logistic\", random_state=42, eval_metric=\"auc\")\n",
        "\n",
        "X_train, X_test, y_train, y_test = train_test_split(X, y, random_state=42)\n",
        "\n",
        "xgb_model.fit(X_train, y_train, early_stopping_rounds=10, eval_set=[(X_test, y_test)], verbose=False)\n",
        "\n",
        "importance = xgb_model.feature_importances_\n",
        "\n",
        "fig, ax = plt.subplots()\n",
        "ylocs = np.arange(len(importance))\n",
        "ax.barh(ylocs, importance, align=\"center\")\n",
        "ax.set_yticks(ylocs)\n",
        "ax.set_yticklabels(feature_names)\n",
        "\n",
        "plt.show()"
      ]
    }
  ],
  "metadata": {
    "colab": {
      "provenance": []
    },
    "kernelspec": {
      "display_name": "Python 3",
      "language": "python",
      "name": "python3"
    },
    "language_info": {
      "codemirror_mode": {
        "name": "ipython",
        "version": 3
      },
      "file_extension": ".py",
      "mimetype": "text/x-python",
      "name": "python",
      "nbconvert_exporter": "python",
      "pygments_lexer": "ipython3",
      "version": "3.9.18"
    }
  },
  "nbformat": 4,
  "nbformat_minor": 0
}
